{
 "cells": [
  {
   "cell_type": "code",
   "execution_count": null,
   "id": "c8e13c47",
   "metadata": {},
   "outputs": [],
   "source": [
    "from wavelet1d import *\n",
    "from scipy.integrate import quad"
   ]
  },
  {
   "cell_type": "code",
   "execution_count": null,
   "id": "b681c3a3",
   "metadata": {},
   "outputs": [],
   "source": [
    "d = 3\n",
    "d_t = 5"
   ]
  },
  {
   "cell_type": "markdown",
   "id": "0f727e8f",
   "metadata": {},
   "source": [
    "# Primal MRA"
   ]
  },
  {
   "cell_type": "code",
   "execution_count": null,
   "id": "b13299cd",
   "metadata": {},
   "outputs": [],
   "source": [
    "mra = PrimalMRA(d)"
   ]
  },
  {
   "cell_type": "code",
   "execution_count": null,
   "id": "d96be16c",
   "metadata": {},
   "outputs": [],
   "source": [
    "print(mra.ML)\n",
    "\n",
    "ML_test = PrimalMRA(2).ML\n",
    "ML_ref = np.array([[1],[1/2]])\n",
    "assert np.allclose(ML_test, ML_ref)\n",
    "\n",
    "ML_test = PrimalMRA(3).ML\n",
    "ML_ref = np.array([[1, 0], [1/2, 1/2], [0, 3/4], [0, 1/4]])\n",
    "assert np.allclose(ML_test, ML_ref)"
   ]
  },
  {
   "cell_type": "markdown",
   "id": "e4887284",
   "metadata": {},
   "source": [
    "- Primbs - 2006, Beispiel 3.18:  \n",
    "    For $d = 2$, $M^L = [[1], [1/2]]$  \n",
    "    For $d = 3$, $M^L = [[1, 0], [1/2, 1/2], [0, 3/4], [0, 1/4]]$"
   ]
  },
  {
   "cell_type": "code",
   "execution_count": null,
   "id": "beb70714",
   "metadata": {},
   "outputs": [],
   "source": [
    "j = 5\n",
    "M0 = mra.refinement_matrix(j)\n",
    "plt.rcParams['figure.figsize'] = [20, 10]\n",
    "plt.spy(M0, marker='o', markersize=5)\n",
    "plt.show()"
   ]
  },
  {
   "cell_type": "markdown",
   "id": "3acb915e",
   "metadata": {},
   "source": [
    "- Primbs - 2006, Abbildung 3.5"
   ]
  },
  {
   "cell_type": "code",
   "execution_count": null,
   "id": "b3ca21d2",
   "metadata": {},
   "outputs": [],
   "source": [
    "j = 3\n",
    "plt.rcParams['figure.figsize'] = plt.rcParamsDefault['figure.figsize']\n",
    "mra.plot(j)\n",
    "\n",
    "# basis functions constructed using refinement relation\n",
    "mra.plot(j, from_refine_mat=True)"
   ]
  },
  {
   "cell_type": "markdown",
   "id": "fc22a019",
   "metadata": {},
   "source": [
    "- Primbs - 2006, Abbildung 3.2-3.4"
   ]
  },
  {
   "cell_type": "code",
   "execution_count": null,
   "id": "2b8ee2d4",
   "metadata": {},
   "outputs": [],
   "source": [
    "j = 5\n",
    "G = mra.gramian(j)\n",
    "\n",
    "bs = mra.basis_functions(j)\n",
    "n = G.shape[0]\n",
    "G_quad = np.empty((n, n))\n",
    "for k in range(n):\n",
    "    supp_k = mra.support(j, k)\n",
    "    for m in range(n):\n",
    "        supp_m = mra.support(j, m)\n",
    "        xmin = max(supp_k[0], supp_m[0])\n",
    "        xmax = min(supp_k[1], supp_m[1])\n",
    "        if xmin >= xmax:\n",
    "            G_quad[k, m] = 0.\n",
    "        else:\n",
    "            G_quad[k, m] = quad(lambda x: bs[k](x)*bs[m](x), xmin, xmax)[0]\n",
    "assert np.allclose(G, G_quad)"
   ]
  },
  {
   "cell_type": "code",
   "execution_count": null,
   "id": "de39f5dd",
   "metadata": {},
   "outputs": [],
   "source": [
    "G_test = PrimalMRA(3).gramian(3)\n",
    "G_ref = np.array([\n",
    "    [1/5, 7/60, 1/60, 0, 0, 0, 0, 0, 0, 0],\n",
    "    [7/60, 1/3, 5/24, 1/120, 0, 0, 0, 0, 0, 0],\n",
    "    [1/60, 5/24, 11/20, 13/60, 1/120, 0, 0, 0, 0, 0],\n",
    "    [0, 1/120, 13/60, 11/20, 13/60, 1/120, 0, 0, 0, 0],\n",
    "    [0, 0, 1/120, 13/60, 11/20, 13/60, 1/120, 0, 0, 0],\n",
    "    [0, 0, 0, 1/120, 13/60, 11/20, 13/60, 1/120, 0, 0],\n",
    "    [0, 0, 0, 0, 1/120, 13/60, 11/20, 13/60, 1/120, 0],\n",
    "    [0, 0, 0, 0, 0, 1/120, 13/60, 11/20, 5/24, 1/60],\n",
    "    [0, 0, 0, 0, 0, 0, 1/120, 5/24, 1/3, 7/60],\n",
    "    [0, 0, 0, 0, 0, 0, 0, 1/60, 7/60, 1/5]])\n",
    "assert np.allclose(G_test, G_ref)"
   ]
  },
  {
   "cell_type": "markdown",
   "id": "e380171a",
   "metadata": {},
   "source": [
    "- Primbs - 2008, Section 5.1"
   ]
  },
  {
   "cell_type": "code",
   "execution_count": null,
   "id": "93ffdab0",
   "metadata": {},
   "outputs": [],
   "source": []
  }
 ],
 "metadata": {
  "kernelspec": {
   "display_name": "Python 3",
   "language": "python",
   "name": "python3"
  },
  "language_info": {
   "codemirror_mode": {
    "name": "ipython",
    "version": 3
   },
   "file_extension": ".py",
   "mimetype": "text/x-python",
   "name": "python",
   "nbconvert_exporter": "python",
   "pygments_lexer": "ipython3",
   "version": "3.8.10"
  }
 },
 "nbformat": 4,
 "nbformat_minor": 5
}
