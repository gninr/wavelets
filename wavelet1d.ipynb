{
 "cells": [
  {
   "cell_type": "code",
   "execution_count": null,
   "id": "a6d8f579",
   "metadata": {},
   "outputs": [],
   "source": [
    "from wavelet1d import *\n",
    "from scipy.integrate import quad\n",
    "from scipy.linalg import eigvalsh"
   ]
  },
  {
   "cell_type": "markdown",
   "id": "18398367",
   "metadata": {},
   "source": [
    "# Primal MRA"
   ]
  },
  {
   "cell_type": "code",
   "execution_count": null,
   "id": "afee1256",
   "metadata": {},
   "outputs": [],
   "source": [
    "d = 3\n",
    "mra = PrimalMRA(d)"
   ]
  },
  {
   "cell_type": "code",
   "execution_count": null,
   "id": "74c5295e",
   "metadata": {},
   "outputs": [],
   "source": [
    "print(mra.ML)\n",
    "\n",
    "ML_test = PrimalMRA(2).ML\n",
    "ML_ref = np.array([[1],[1/2]])\n",
    "assert np.allclose(ML_test, ML_ref)\n",
    "\n",
    "ML_test = PrimalMRA(3).ML\n",
    "ML_ref = np.array([[1, 0], [1/2, 1/2], [0, 3/4], [0, 1/4]])\n",
    "assert np.allclose(ML_test, ML_ref)"
   ]
  },
  {
   "cell_type": "markdown",
   "id": "23d5c52e",
   "metadata": {},
   "source": [
    "- Primbs - 2006, Beispiel 3.18"
   ]
  },
  {
   "cell_type": "code",
   "execution_count": null,
   "id": "8f9477ff",
   "metadata": {},
   "outputs": [],
   "source": [
    "j = 5\n",
    "M0 = mra.refinement_matrix(j)\n",
    "plt.rcParams['figure.figsize'] = [5, 10]\n",
    "plt.spy(M0, marker='o', markersize=5)\n",
    "plt.show()"
   ]
  },
  {
   "cell_type": "markdown",
   "id": "98e0409a",
   "metadata": {},
   "source": [
    "- Primbs - 2006, Abbildung 3.5"
   ]
  },
  {
   "cell_type": "code",
   "execution_count": null,
   "id": "5c5d675d",
   "metadata": {},
   "outputs": [],
   "source": [
    "j = 3\n",
    "plt.rcParams['figure.figsize'] = plt.rcParamsDefault['figure.figsize']\n",
    "mra.plot(j)\n",
    "\n",
    "# basis functions constructed using refinement relation\n",
    "mra.plot(j, nu=0, from_refine_mat=True)"
   ]
  },
  {
   "cell_type": "markdown",
   "id": "3c04ae12",
   "metadata": {},
   "source": [
    "- Primbs - 2006, Abbildung 3.2-3.4"
   ]
  },
  {
   "cell_type": "code",
   "execution_count": null,
   "id": "9a53b8e6",
   "metadata": {},
   "outputs": [],
   "source": [
    "j = 5\n",
    "G = mra.gramian(j)\n",
    "\n",
    "bs = mra.basis_functions(j)\n",
    "n = G.shape[0]\n",
    "G_quad = np.empty((n, n))\n",
    "for k in range(n):\n",
    "    supp_k = mra.support(j, k)\n",
    "    for m in range(n):\n",
    "        supp_m = mra.support(j, m)\n",
    "        xmin = max(supp_k[0], supp_m[0])\n",
    "        xmax = min(supp_k[1], supp_m[1])\n",
    "        if xmin >= xmax:\n",
    "            G_quad[k, m] = 0.\n",
    "        else:\n",
    "            G_quad[k, m] = quad(lambda x: bs[k](x)*bs[m](x), xmin, xmax)[0]\n",
    "assert np.allclose(G, G_quad)"
   ]
  },
  {
   "cell_type": "code",
   "execution_count": null,
   "id": "f9e72b3b",
   "metadata": {},
   "outputs": [],
   "source": [
    "G_test = PrimalMRA(3).gramian(3)\n",
    "G_ref = np.array([\n",
    "    [1/5, 7/60, 1/60, 0, 0, 0, 0, 0, 0, 0],\n",
    "    [7/60, 1/3, 5/24, 1/120, 0, 0, 0, 0, 0, 0],\n",
    "    [1/60, 5/24, 11/20, 13/60, 1/120, 0, 0, 0, 0, 0],\n",
    "    [0, 1/120, 13/60, 11/20, 13/60, 1/120, 0, 0, 0, 0],\n",
    "    [0, 0, 1/120, 13/60, 11/20, 13/60, 1/120, 0, 0, 0],\n",
    "    [0, 0, 0, 1/120, 13/60, 11/20, 13/60, 1/120, 0, 0],\n",
    "    [0, 0, 0, 0, 1/120, 13/60, 11/20, 13/60, 1/120, 0],\n",
    "    [0, 0, 0, 0, 0, 1/120, 13/60, 11/20, 5/24, 1/60],\n",
    "    [0, 0, 0, 0, 0, 0, 1/120, 5/24, 1/3, 7/60],\n",
    "    [0, 0, 0, 0, 0, 0, 0, 1/60, 7/60, 1/5]])\n",
    "assert np.allclose(G_test, G_ref)"
   ]
  },
  {
   "cell_type": "markdown",
   "id": "ac19d66a",
   "metadata": {},
   "source": [
    "- Primbs - 2008, Section 5.1"
   ]
  },
  {
   "cell_type": "code",
   "execution_count": null,
   "id": "69a04ab9",
   "metadata": {},
   "outputs": [],
   "source": [
    "# riesz constants\n",
    "n = G.shape[0]\n",
    "c1 = np.sqrt(eigvalsh(G, subset_by_index=[0, 0])[0])\n",
    "c2 = np.sqrt(eigvalsh(G, subset_by_index=[n-1, n-1])[0])\n",
    "print(\"c1 =\", c1)\n",
    "print(\"c2 =\", c2)\n",
    "print(\"c2/c1 =\", c2/c1)\n",
    "\n",
    "tests = [(2, 5), (3, 5), (4, 6)]\n",
    "results = []\n",
    "refs = [[0.5, 0.999], [0.308, 0.999], [0.193, 0.999]]\n",
    "for d_test, j_test in tests:\n",
    "    G_test = PrimalMRA(d_test).gramian(j_test)\n",
    "    n = G_test.shape[0]\n",
    "    c1_test = np.sqrt(eigvalsh(G_test, subset_by_index=[0, 0])[0])\n",
    "    c2_test = np.sqrt(eigvalsh(G_test, subset_by_index=[n-1, n-1])[0])\n",
    "    results.append([c1_test, c2_test])\n",
    "assert np.allclose(results, refs, atol=1e-3)"
   ]
  },
  {
   "cell_type": "markdown",
   "id": "a35a469f",
   "metadata": {},
   "source": [
    "- Primbs - 2010, Table 1"
   ]
  },
  {
   "cell_type": "code",
   "execution_count": null,
   "id": "a9163bb0",
   "metadata": {},
   "outputs": [],
   "source": [
    "# diagonal scaling\n",
    "tests = [(2, 5), (3, 5), (4, 6)]\n",
    "results = []\n",
    "refs = [[0.707, 1.225], [0.489, 1.352], [0.329, 1.453]]\n",
    "for (d_test, j_test) in tests:\n",
    "    G_test = PrimalMRA(d_test).gramian(j_test)\n",
    "    D = np.diag(1 / np.sqrt(np.diag(G_test)))\n",
    "    G_test = D @ G_test @ D\n",
    "    n = G_test.shape[0]\n",
    "    c1_test = np.sqrt(eigvalsh(G_test, subset_by_index=[0, 0])[0])\n",
    "    c2_test = np.sqrt(eigvalsh(G_test, subset_by_index=[n-1, n-1])[0])\n",
    "    results.append([c1_test, c2_test])\n",
    "assert np.allclose(results, refs, atol=1e-3)"
   ]
  },
  {
   "cell_type": "markdown",
   "id": "19a2eaeb",
   "metadata": {},
   "source": [
    "- Primbs - 2006, Tabelle 6.3"
   ]
  },
  {
   "cell_type": "markdown",
   "id": "4630bd75",
   "metadata": {},
   "source": [
    "- Primbs - 2006, Tabelle 6.4"
   ]
  },
  {
   "cell_type": "code",
   "execution_count": null,
   "id": "35a371c1",
   "metadata": {},
   "outputs": [],
   "source": [
    "j = 3\n",
    "nu = 1\n",
    "A = mra.inner_product(j, nu)\n",
    "\n",
    "bs = mra.basis_functions(j, nu)\n",
    "n = A.shape[0]\n",
    "A_quad = np.empty((n, n))\n",
    "for k in range(n):\n",
    "    supp_k = mra.support(j, k)\n",
    "    for m in range(n):\n",
    "        supp_m = mra.support(j, m)\n",
    "        xmin = max(supp_k[0], supp_m[0])\n",
    "        xmax = min(supp_k[1], supp_m[1])\n",
    "        if xmin >= xmax:\n",
    "            A_quad[k, m] = 0.\n",
    "        else:\n",
    "            A_quad[k, m] = quad(lambda x: bs[k](x)*bs[m](x), xmin, xmax)[0]\n",
    "assert np.allclose(A, A_quad)"
   ]
  },
  {
   "cell_type": "code",
   "execution_count": null,
   "id": "1801f75c",
   "metadata": {},
   "outputs": [],
   "source": [
    "A_test = PrimalMRA(3).inner_product(3, nu=1)\n",
    "A_ref = np.array([\n",
    "    [256/3, -64, -64/3, 0, 0, 0, 0, 0, 0, 0],\n",
    "    [-64, 256/3, -32/3, -32/3, 0, 0, 0, 0, 0, 0],\n",
    "    [-64/3, -32/3, 64, -64/3, -32/3, 0, 0, 0, 0, 0],\n",
    "    [0, -32/3, -64/3, 64, -64/3, -32/3, 0, 0, 0, 0],\n",
    "    [0, 0, -32/3, -64/3, 64, -64/3, -32/3, 0, 0, 0],\n",
    "    [0, 0, 0, -32/3, -64/3, 64, -64/3, -32/3, 0, 0],\n",
    "    [0, 0, 0, 0, -32/3, -64/3, 64, -64/3, -32/3, 0],\n",
    "    [0, 0, 0, 0, 0, -32/3, -64/3, 64, -32/3, -64/3],\n",
    "    [0, 0, 0, 0, 0, 0, -32/3, -32/3, 256/3, -64],\n",
    "    [0, 0, 0, 0, 0, 0, 0, -64/3, -64, 256/3]])\n",
    "assert np.allclose(A_test, A_ref)"
   ]
  },
  {
   "cell_type": "markdown",
   "id": "d628847e",
   "metadata": {},
   "source": [
    "- Primbs - 2006, Beispiel 3.26"
   ]
  },
  {
   "cell_type": "markdown",
   "id": "9482cc2a",
   "metadata": {},
   "source": [
    "# Primal MRA + Boundary Conditions"
   ]
  },
  {
   "cell_type": "code",
   "execution_count": null,
   "id": "387ed1c4",
   "metadata": {},
   "outputs": [],
   "source": [
    "d = 3\n",
    "mra = PrimalMRA(d, bc=True)"
   ]
  },
  {
   "cell_type": "code",
   "execution_count": null,
   "id": "b9bea2a5",
   "metadata": {},
   "outputs": [],
   "source": [
    "print(mra.ML)"
   ]
  },
  {
   "cell_type": "code",
   "execution_count": null,
   "id": "87868ab9",
   "metadata": {},
   "outputs": [],
   "source": [
    "j = 5\n",
    "M0 = mra.refinement_matrix(j)\n",
    "plt.rcParams['figure.figsize'] = [5, 10]\n",
    "plt.spy(M0, marker='o', markersize=5)\n",
    "plt.show()"
   ]
  },
  {
   "cell_type": "markdown",
   "id": "19ac9598",
   "metadata": {},
   "source": [
    "- Primbs - 2006, Abbildung 3.5"
   ]
  },
  {
   "cell_type": "code",
   "execution_count": null,
   "id": "992c5062",
   "metadata": {},
   "outputs": [],
   "source": [
    "j = 3\n",
    "plt.rcParams['figure.figsize'] = plt.rcParamsDefault['figure.figsize']\n",
    "mra.plot(j)\n",
    "\n",
    "# basis functions constructed using refinement relation\n",
    "mra.plot(j, nu=0, from_refine_mat=True)"
   ]
  },
  {
   "cell_type": "markdown",
   "id": "5a8f9f10",
   "metadata": {},
   "source": [
    "- Primbs - 2006, Abbildung 3.2-3.4"
   ]
  },
  {
   "cell_type": "code",
   "execution_count": null,
   "id": "5242e24b",
   "metadata": {},
   "outputs": [],
   "source": [
    "j = 5\n",
    "G = mra.gramian(j)\n",
    "\n",
    "bs = mra.basis_functions(j)\n",
    "n = G.shape[0]\n",
    "G_quad = np.empty((n, n))\n",
    "for k in range(n):\n",
    "    supp_k = mra.support(j, k)\n",
    "    for m in range(n):\n",
    "        supp_m = mra.support(j, m)\n",
    "        xmin = max(supp_k[0], supp_m[0])\n",
    "        xmax = min(supp_k[1], supp_m[1])\n",
    "        if xmin >= xmax:\n",
    "            G_quad[k, m] = 0.\n",
    "        else:\n",
    "            G_quad[k, m] = quad(lambda x: bs[k](x)*bs[m](x), xmin, xmax)[0]\n",
    "assert np.allclose(G, G_quad)"
   ]
  },
  {
   "cell_type": "code",
   "execution_count": null,
   "id": "13d6a36c",
   "metadata": {},
   "outputs": [],
   "source": [
    "# riesz constants\n",
    "n = G.shape[0]\n",
    "c1 = np.sqrt(eigvalsh(G, subset_by_index=[0, 0])[0])\n",
    "c2 = np.sqrt(eigvalsh(G, subset_by_index=[n-1, n-1])[0])\n",
    "print(\"c1 =\", c1)\n",
    "print(\"c2 =\", c2)\n",
    "print(\"c2/c1 =\", c2/c1)\n",
    "\n",
    "tests = [(2, 5), (3, 5), (4, 6)]\n",
    "results = []\n",
    "refs = [[0.579, 0.999], [0.365, 0.999], [0.221, 0.999]]\n",
    "for d_test, j_test in tests:\n",
    "    G_test = PrimalMRA(d_test, bc=True).gramian(j_test)\n",
    "    n = G_test.shape[0]\n",
    "    c1_test = np.sqrt(eigvalsh(G_test, subset_by_index=[0, 0])[0])\n",
    "    c2_test = np.sqrt(eigvalsh(G_test, subset_by_index=[n-1, n-1])[0])\n",
    "    results.append([c1_test, c2_test])\n",
    "assert np.allclose(results, refs, atol=1e-3)"
   ]
  },
  {
   "cell_type": "markdown",
   "id": "a5869d33",
   "metadata": {},
   "source": [
    "- Primbs - 2006, Tabelle 6.4"
   ]
  },
  {
   "cell_type": "code",
   "execution_count": null,
   "id": "d873530a",
   "metadata": {},
   "outputs": [],
   "source": [
    "# diagonal scaling\n",
    "tests = [(2, 5), (3, 5), (4, 6)]\n",
    "results = []\n",
    "refs = [[0.709, 1.224], [0.495, 1.347], [0.336, 1.445]]\n",
    "for (d_test, j_test) in tests:\n",
    "    G_test = PrimalMRA(d_test, bc=True).gramian(j_test)\n",
    "    D = np.diag(1 / np.sqrt(np.diag(G_test)))\n",
    "    G_test = D @ G_test @ D\n",
    "    n = G_test.shape[0]\n",
    "    c1_test = np.sqrt(eigvalsh(G_test, subset_by_index=[0, 0])[0])\n",
    "    c2_test = np.sqrt(eigvalsh(G_test, subset_by_index=[n-1, n-1])[0])\n",
    "    results.append([c1_test, c2_test])\n",
    "assert np.allclose(results, refs, atol=1e-3)"
   ]
  },
  {
   "cell_type": "markdown",
   "id": "b674da0b",
   "metadata": {},
   "source": [
    "- Primbs - 2006, Tabelle 6.5"
   ]
  },
  {
   "cell_type": "code",
   "execution_count": null,
   "id": "14075531",
   "metadata": {},
   "outputs": [],
   "source": [
    "j = 3\n",
    "nu = 1\n",
    "A = mra.inner_product(j, nu)\n",
    "\n",
    "bs = mra.basis_functions(j, nu)\n",
    "n = A.shape[0]\n",
    "A_quad = np.empty((n, n))\n",
    "for k in range(n):\n",
    "    supp_k = mra.support(j, k)\n",
    "    for m in range(n):\n",
    "        supp_m = mra.support(j, m)\n",
    "        xmin = max(supp_k[0], supp_m[0])\n",
    "        xmax = min(supp_k[1], supp_m[1])\n",
    "        if xmin >= xmax:\n",
    "            A_quad[k, m] = 0.\n",
    "        else:\n",
    "            A_quad[k, m] = quad(lambda x: bs[k](x)*bs[m](x), xmin, xmax)[0]\n",
    "assert np.allclose(A, A_quad)"
   ]
  },
  {
   "cell_type": "markdown",
   "id": "4821ef3f",
   "metadata": {},
   "source": [
    "# Dual MRA"
   ]
  },
  {
   "cell_type": "code",
   "execution_count": null,
   "id": "562f011a",
   "metadata": {},
   "outputs": [],
   "source": [
    "d = 3\n",
    "d_t = 5\n",
    "mra = PrimalMRA(d)\n",
    "mra_t = DualMRA(d, d_t)"
   ]
  },
  {
   "cell_type": "code",
   "execution_count": null,
   "id": "2e205604",
   "metadata": {},
   "outputs": [],
   "source": [
    "ML_test = DualMRA(3, 5).ML\n",
    "ML_ref = np.array([\n",
    "    [5/3, -2359/3840, 101909/345600, -17611/115200, 3119/57600, -61/6912],\n",
    "    [2/3, 2359/1920, -101909/172800, 17611/57600, -3119/28800, 61/3456],\n",
    "    [-1/2, 2503/1280, -18413/115200, 1027/38400, -83/19200, 1/2304],\n",
    "    [1/6, -1243/3840, 573353/345600, -79687/115200, 13223/57600, -253/6912],\n",
    "    [0, -77/256, 2583/2560, 789/2560, -181/1280, 19/768],\n",
    "    [0, -21/256, 399/2560, 2877/2560, -333/1280, 9/256],\n",
    "    [0, 105/512, -547/1024, 1523/1024, -79/512, 43/512],\n",
    "    [0, -35/512, 129/1024, -145/1024, 709/512, -587/1536],\n",
    "    [0, 0, 15/256, -97/256, 175/128, -13/128],\n",
    "    [0, 0, -5/256, 19/256, -13/128, 175/128],\n",
    "    [0, 0, 0, 15/256, -97/256, 175/128],\n",
    "    [0, 0, 0, -5/256, 19/256, -13/128],\n",
    "    [0, 0, 0, 0, 15/256, -97/256],\n",
    "    [0, 0, 0, 0, -5/256, 19/256],\n",
    "    [0, 0, 0, 0, 0, 15/256],\n",
    "    [0, 0, 0, 0, 0, -5/256]])\n",
    "assert np.allclose(ML_test, ML_ref)"
   ]
  },
  {
   "cell_type": "code",
   "execution_count": null,
   "id": "6b5fb275",
   "metadata": {},
   "outputs": [],
   "source": [
    "ML_test = DualMRA(3, 5).ML\n",
    "ML_ref = np.array([\n",
    "    [5/3, -2359/3840, 101909/345600, -17611/115200, 3119/57600, -61/6912],\n",
    "    [2/3, 2359/1920, -101909/172800, 17611/57600, -3119/28800, 61/3456],\n",
    "    [-1/2, 2503/1280, -18413/115200, 1027/38400, -83/19200, 1/2304],\n",
    "    [1/6, -1243/3840, 573353/345600, -79687/115200, 13223/57600, -253/6912],\n",
    "    [0, -77/256, 2583/2560, 789/2560, -181/1280, 19/768],\n",
    "    [0, -21/256, 399/2560, 2877/2560, -333/1280, 9/256],\n",
    "    [0, 105/512, -547/1024, 1523/1024, -79/512, 43/512],\n",
    "    [0, -35/512, 129/1024, -145/1024, 709/512, -587/1536],\n",
    "    [0, 0, 15/256, -97/256, 175/128, -13/128],\n",
    "    [0, 0, -5/256, 19/256, -13/128, 175/128],\n",
    "    [0, 0, 0, 15/256, -97/256, 175/128],\n",
    "    [0, 0, 0, -5/256, 19/256, -13/128],\n",
    "    [0, 0, 0, 0, 15/256, -97/256],\n",
    "    [0, 0, 0, 0, -5/256, 19/256],\n",
    "    [0, 0, 0, 0, 0, 15/256],\n",
    "    [0, 0, 0, 0, 0, -5/256]])\n",
    "assert np.allclose(ML_test, ML_ref)"
   ]
  },
  {
   "cell_type": "markdown",
   "id": "49d0371c",
   "metadata": {},
   "source": [
    "- Primbs - 2006, Beispiel 4.20"
   ]
  },
  {
   "cell_type": "code",
   "execution_count": null,
   "id": "c8607a78",
   "metadata": {
    "scrolled": false
   },
   "outputs": [],
   "source": [
    "j = 5\n",
    "M0 = mra_t.refinement_matrix(j)\n",
    "plt.rcParams['figure.figsize'] = [5, 10]\n",
    "plt.spy(M0, marker='o', markersize=5)\n",
    "plt.show()"
   ]
  },
  {
   "cell_type": "markdown",
   "id": "da839776",
   "metadata": {},
   "source": [
    "- Primbs - 2006, Abbildung 4.5"
   ]
  },
  {
   "cell_type": "code",
   "execution_count": null,
   "id": "63a738db",
   "metadata": {},
   "outputs": [],
   "source": [
    "# biorthogonality\n",
    "j = 5\n",
    "M0 = mra.refinement_matrix(j)\n",
    "M0_t = mra_t.refinement_matrix(j)\n",
    "assert np.allclose(M0.T @ M0_t, np.identity(M0.shape[1]))"
   ]
  },
  {
   "cell_type": "markdown",
   "id": "206fc28c",
   "metadata": {},
   "source": [
    "# Dual MRA + Boundary Conditions + d = 2"
   ]
  },
  {
   "cell_type": "code",
   "execution_count": null,
   "id": "5ad0eae8",
   "metadata": {},
   "outputs": [],
   "source": [
    "d = 2\n",
    "d_t = 4\n",
    "mra = PrimalMRA(d, bc=True)\n",
    "mra_t = DualMRA(d, d_t, bc=True)"
   ]
  },
  {
   "cell_type": "code",
   "execution_count": null,
   "id": "fa21c668",
   "metadata": {
    "scrolled": false
   },
   "outputs": [],
   "source": [
    "j = 5\n",
    "M0 = mra_t.refinement_matrix(j)\n",
    "plt.rcParams['figure.figsize'] = [5, 10]\n",
    "plt.spy(M0, marker='o', markersize=5)\n",
    "plt.show()"
   ]
  },
  {
   "cell_type": "code",
   "execution_count": null,
   "id": "b1b0b466",
   "metadata": {},
   "outputs": [],
   "source": [
    "# biorthogonality\n",
    "j = 5\n",
    "M0 = mra.refinement_matrix(j)\n",
    "M0_t = mra_t.refinement_matrix(j)\n",
    "assert np.allclose(M0.T @ M0_t, np.identity(M0.shape[1]))"
   ]
  },
  {
   "cell_type": "markdown",
   "id": "82ade2c7",
   "metadata": {},
   "source": [
    "# Dual MRA + Boundary Conditions + d > 2"
   ]
  },
  {
   "cell_type": "code",
   "execution_count": null,
   "id": "d70d9d6c",
   "metadata": {},
   "outputs": [],
   "source": [
    "d = 3\n",
    "d_t = 5\n",
    "mra = PrimalMRA(d, bc=True)\n",
    "mra_t = DualMRA(d, d_t, bc=True)"
   ]
  },
  {
   "cell_type": "code",
   "execution_count": null,
   "id": "fcd61127",
   "metadata": {
    "scrolled": false
   },
   "outputs": [],
   "source": [
    "j = 5\n",
    "M0 = mra_t.refinement_matrix(j)\n",
    "plt.rcParams['figure.figsize'] = [5, 10]\n",
    "plt.spy(M0, marker='o', markersize=5)\n",
    "plt.show()"
   ]
  },
  {
   "cell_type": "code",
   "execution_count": null,
   "id": "18d5f815",
   "metadata": {},
   "outputs": [],
   "source": [
    "# biorthogonality\n",
    "j = 5\n",
    "M0 = mra.refinement_matrix(j)\n",
    "M0_t = mra_t.refinement_matrix(j)\n",
    "assert np.allclose(M0.T @ M0_t, np.identity(M0.shape[1]))"
   ]
  },
  {
   "cell_type": "markdown",
   "id": "2dfefcf7",
   "metadata": {},
   "source": [
    "# Wavelet Basis"
   ]
  },
  {
   "cell_type": "code",
   "execution_count": null,
   "id": "08e67d80",
   "metadata": {},
   "outputs": [],
   "source": [
    "d = 3\n",
    "d_t = 5\n",
    "wb = WaveletBasis(d, d_t)"
   ]
  },
  {
   "cell_type": "code",
   "execution_count": null,
   "id": "e71a19d7",
   "metadata": {
    "scrolled": false
   },
   "outputs": [],
   "source": [
    "j = 5\n",
    "M0, M1, M0_t, M1_t = wb.refinement_matrix(j, full=True)\n",
    "\n",
    "plt.rcParams['figure.figsize'] = [8.5, 17]\n",
    "plt.subplot(221)\n",
    "plt.spy(M0, marker='o', markersize=5)\n",
    "plt.subplot(222)\n",
    "plt.spy(M1, marker='o', markersize=5)\n",
    "plt.subplot(223)\n",
    "plt.spy(M0_t, marker='o', markersize=5)\n",
    "plt.subplot(224)\n",
    "plt.spy(M1_t, marker='o', markersize=5)\n",
    "plt.show()"
   ]
  },
  {
   "cell_type": "code",
   "execution_count": null,
   "id": "ff0004e8",
   "metadata": {},
   "outputs": [],
   "source": [
    "# symmetry\n",
    "assert np.allclose(M0, M0[::-1, ::-1])\n",
    "assert np.allclose(M1, M1[::-1, ::-1])\n",
    "assert np.allclose(M0_t, M0_t[::-1, ::-1])\n",
    "assert np.allclose(M1_t, M1_t[::-1, ::-1])"
   ]
  },
  {
   "cell_type": "code",
   "execution_count": null,
   "id": "33ddf0d5",
   "metadata": {},
   "outputs": [],
   "source": [
    "# biorthogonality\n",
    "M = np.hstack((M0, M1))\n",
    "M_t = np.hstack((M0_t, M1_t))\n",
    "assert np.allclose(M.T @ M_t, np.identity(M.shape[0]))"
   ]
  },
  {
   "cell_type": "code",
   "execution_count": null,
   "id": "445d9218",
   "metadata": {},
   "outputs": [],
   "source": [
    "wb_test = WaveletBasis(3, 5)\n",
    "\n",
    "GL_test = wb_test.GL\n",
    "GL_ref = np.array([\n",
    "    [3/4, 0, 0],\n",
    "    [-12123/10240, -63/256, 35/256],\n",
    "    [535021/614400, 147/5120, 21/1024],\n",
    "    [-31139/204800, 5481/5120, -497/1024],\n",
    "    [-42149/102400, -3969/2560, -7/512],\n",
    "    [5659/61440, 85/512, 735/512],\n",
    "    [9319/40960, 699/1024, -1295/1024],\n",
    "    [-1103/204800, -3/5120, -117/1024],\n",
    "    [-13273/153600, -311/1280, 253/768],\n",
    "    [-797/51200, -57/1280, 17/256],\n",
    "    [61/4096, 21/512, -25/512],\n",
    "    [61/12288, 7/512, -25/1536]])\n",
    "assert np.allclose(GL_test, GL_ref)\n",
    "\n",
    "GL_t_test = wb_test.GL_t\n",
    "GL_t_ref = np.array([\n",
    "    [4/9, 0, 0],\n",
    "    [-8/9, 0, 0],\n",
    "    [2/3, -1/4, 0],\n",
    "    [-2/9, 3/4, 0],\n",
    "    [0, -3/4, -1/4],\n",
    "    [0, 1/4, 3/4],\n",
    "    [0, 0, -3/4],\n",
    "    [0, 0, 1/4]])\n",
    "assert np.allclose(GL_t_test, GL_t_ref)"
   ]
  },
  {
   "cell_type": "markdown",
   "id": "4586ff7a",
   "metadata": {},
   "source": [
    "- Primbs - 2006, Beispiel 5.9"
   ]
  },
  {
   "cell_type": "code",
   "execution_count": null,
   "id": "034efa12",
   "metadata": {},
   "outputs": [],
   "source": [
    "j = 5\n",
    "plt.rcParams['figure.figsize'] = plt.rcParamsDefault['figure.figsize']\n",
    "wb.plot(j, 0, boundary=True)\n",
    "wb.plot(j, 1, boundary=True)\n",
    "wb.plot(j, 2, boundary=True)"
   ]
  },
  {
   "cell_type": "markdown",
   "id": "f38c327c",
   "metadata": {},
   "source": [
    "- Primbs - 2006, Abbildung 5.4"
   ]
  },
  {
   "cell_type": "code",
   "execution_count": null,
   "id": "20da4dd3",
   "metadata": {},
   "outputs": [],
   "source": [
    "j = 5\n",
    "G = wb.gramian(j)\n",
    "\n",
    "bs = wb.basis_functions(j)\n",
    "n = G.shape[0]\n",
    "G_quad = np.empty((n, n))\n",
    "for k in range(n):\n",
    "    supp_k = wb.support(j, k)\n",
    "    for m in range(n):\n",
    "        supp_m = wb.support(j, m)\n",
    "        xmin = max(supp_k[0], supp_m[0])\n",
    "        xmax = min(supp_k[1], supp_m[1])\n",
    "        if xmin >= xmax:\n",
    "            G_quad[k, m] = 0.\n",
    "        else:\n",
    "            G_quad[k, m] = quad(lambda x: bs[k](x)*bs[m](x), xmin, xmax)[0]\n",
    "assert np.allclose(G, G_quad)"
   ]
  },
  {
   "cell_type": "code",
   "execution_count": null,
   "id": "0d5593fa",
   "metadata": {},
   "outputs": [],
   "source": [
    "# riesz constants\n",
    "n = G.shape[0]\n",
    "d1 = np.sqrt(eigvalsh(G, subset_by_index=[0, 0])[0])\n",
    "d2 = np.sqrt(eigvalsh(G, subset_by_index=[n-1, n-1])[0])\n",
    "print(\"d1 =\", d1)\n",
    "print(\"d2 =\", d2)\n",
    "print(\"d2/d1 =\", d2/d1)\n",
    "\n",
    "tests = [(2, 2, 5), (2, 4, 5), (2, 6, 5), (2, 8, 5),\n",
    "         (3, 3, 5), (3, 5, 5), (3, 7, 5), (3, 9, 6),\n",
    "         (4, 6, 6), (4, 8, 6)]\n",
    "results = []\n",
    "refs = 1 / np.sqrt(2) * np.array([\n",
    "    [0.832, 1.589], [0.821, 1.618], [0.817, 1.629], [0.817, 1.908],\n",
    "    [0.507, 2.038], [0.489, 2.058], [0.512, 2.130], [0.516, 3.067],\n",
    "    [0.329, 3.100], [0.330, 4.802]])\n",
    "for d_test, d_t_test, j_test in tests:\n",
    "    G_test = WaveletBasis(d_test, d_t_test).gramian(j_test)\n",
    "    n = G_test.shape[0]\n",
    "    d1_test = np.sqrt(eigvalsh(G_test, subset_by_index=[0, 0])[0])\n",
    "    d2_test = np.sqrt(eigvalsh(G_test, subset_by_index=[n-1, n-1])[0])\n",
    "    results.append([d1_test, d2_test])\n",
    "assert np.allclose(results, refs, rtol=5e-2)"
   ]
  },
  {
   "cell_type": "markdown",
   "id": "919cf799",
   "metadata": {},
   "source": [
    "- Primbs - 2006, Tabelle 6.9"
   ]
  },
  {
   "cell_type": "markdown",
   "id": "780963c9",
   "metadata": {},
   "source": [
    "# Multi-Scale Wavelet Basis"
   ]
  },
  {
   "cell_type": "code",
   "execution_count": null,
   "id": "9e7d31dc",
   "metadata": {},
   "outputs": [],
   "source": [
    "d = 3\n",
    "d_t = 5\n",
    "mwb = MultiscaleWaveletBasis(d, d_t)"
   ]
  },
  {
   "cell_type": "code",
   "execution_count": null,
   "id": "400375e8",
   "metadata": {},
   "outputs": [],
   "source": [
    "j0 = 4\n",
    "s = 2\n",
    "G = mwb.gramian(s, j0)\n",
    "\n",
    "plt.rcParams['figure.figsize'] = [7, 7]\n",
    "plt.spy(G, marker='o', markersize=1)\n",
    "plt.show()"
   ]
  },
  {
   "cell_type": "code",
   "execution_count": null,
   "id": "0df9a6b4",
   "metadata": {},
   "outputs": [],
   "source": [
    "# riesz constants\n",
    "n = G.shape[0]\n",
    "C1 = np.sqrt(eigvalsh(G, subset_by_index=[0, 0])[0])\n",
    "C2 = np.sqrt(eigvalsh(G, subset_by_index=[n-1, n-1])[0])\n",
    "print(\"C1 =\", C1)\n",
    "print(\"C2 =\", C2)\n",
    "print(\"C2/C1 =\", C2/C1)\n",
    "\n",
    "tests = [(2, 2, 2), (2, 4, 3), (3, 3, 3), (3, 5, 4)]\n",
    "results = []\n",
    "refs = [[0.436, 1.047], [0.416, 1.141], [0.396, 1.195], [0.385, 1.209],\n",
    "        [0.454, 1.112], [0.442, 1.145], [0.437, 1.152], [0.435, 1.156],\n",
    "        [0.280, 1.373], [0.231, 1.450], [0.209, 1.507], [0.191, 1.518],\n",
    "        [0.249, 1.441], [0.241, 1.456], [0.238, 1.466], [0.237, 1.470]]\n",
    "for d_test, d_t_test, j0_test in tests:\n",
    "    mwb_test = MultiscaleWaveletBasis(d_test, d_t_test)\n",
    "    for s_test in [1, 2, 3, 4]:\n",
    "        G_test = mwb_test.gramian(s_test, j0_test)\n",
    "        n = G_test.shape[0]\n",
    "        C1_test = np.sqrt(eigvalsh(G_test, subset_by_index=[0, 0])[0])\n",
    "        C2_test = np.sqrt(eigvalsh(G_test, subset_by_index=[n-1, n-1])[0])\n",
    "        results.append([C1_test, C2_test])\n",
    "assert np.allclose(results, refs, atol=1e-3)"
   ]
  },
  {
   "cell_type": "markdown",
   "id": "5dea366e",
   "metadata": {},
   "source": [
    "- Primbs - 2006, Tabelle 6.11"
   ]
  },
  {
   "cell_type": "code",
   "execution_count": null,
   "id": "aab07da5",
   "metadata": {},
   "outputs": [],
   "source": [
    "# diagonal scaling\n",
    "tests = [(2, 2, 2), (2, 4, 3), (3, 3, 3), (3, 5, 4)]\n",
    "results = []\n",
    "refs = [[0.625, 1.236], [0.586, 1.332], [0.549, 1.384], [0.527, 1.396],\n",
    "        [0.625, 1.331], [0.604, 1.362], [0.595, 1.370], [0.590, 1.374],\n",
    "        [0.412, 1.531], [0.364, 1.611], [0.324, 1.648], [0.290, 1.657],\n",
    "        [0.375, 1.675], [0.348, 1.692], [0.336, 1.704], [0.329, 1.714]]\n",
    "for d_test, d_t_test, j0_test in tests:\n",
    "    mwb_test = MultiscaleWaveletBasis(d_test, d_t_test)\n",
    "    for s_test in [1, 2, 3, 4]:\n",
    "        G_test = mwb_test.gramian(s_test, j0_test)\n",
    "        D = np.diag(1 / np.sqrt(np.diag(G_test)))\n",
    "        G_test = D @ G_test @ D\n",
    "        n = G_test.shape[0]\n",
    "        C1_test = np.sqrt(eigvalsh(G_test, subset_by_index=[0, 0])[0])\n",
    "        C2_test = np.sqrt(eigvalsh(G_test, subset_by_index=[n-1, n-1])[0])\n",
    "        results.append([C1_test, C2_test])\n",
    "assert np.allclose(results, refs, atol=1e-3)"
   ]
  },
  {
   "cell_type": "markdown",
   "id": "e7b642f0",
   "metadata": {},
   "source": [
    "- Primbs - 2006, Tabelle 6.12"
   ]
  },
  {
   "cell_type": "code",
   "execution_count": null,
   "id": "07b195e6",
   "metadata": {},
   "outputs": [],
   "source": []
  }
 ],
 "metadata": {
  "kernelspec": {
   "display_name": "Python 3",
   "language": "python",
   "name": "python3"
  },
  "language_info": {
   "codemirror_mode": {
    "name": "ipython",
    "version": 3
   },
   "file_extension": ".py",
   "mimetype": "text/x-python",
   "name": "python",
   "nbconvert_exporter": "python",
   "pygments_lexer": "ipython3",
   "version": "3.8.10"
  }
 },
 "nbformat": 4,
 "nbformat_minor": 5
}
