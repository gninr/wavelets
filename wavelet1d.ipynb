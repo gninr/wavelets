{
 "cells": [
  {
   "cell_type": "code",
   "execution_count": null,
   "id": "43af6a25",
   "metadata": {},
   "outputs": [],
   "source": [
    "from wavelet1d import *"
   ]
  },
  {
   "cell_type": "code",
   "execution_count": null,
   "id": "133eeb69",
   "metadata": {},
   "outputs": [],
   "source": [
    "d = 3\n",
    "d_t = 5"
   ]
  },
  {
   "cell_type": "markdown",
   "id": "7c7d8108",
   "metadata": {},
   "source": [
    "# Primal MRA"
   ]
  },
  {
   "cell_type": "code",
   "execution_count": null,
   "id": "ab1061f5",
   "metadata": {},
   "outputs": [],
   "source": [
    "mra = PrimalMRA(d)"
   ]
  },
  {
   "cell_type": "code",
   "execution_count": null,
   "id": "393ef80b",
   "metadata": {},
   "outputs": [],
   "source": [
    "print(mra.ML)\n",
    "if d == 2:\n",
    "    ML_ref = np.array([[1],[1/2]])\n",
    "    assert np.allclose(mra.ML, ML_ref)\n",
    "if d == 3:\n",
    "    ML_ref = np.array([[1, 0], [1/2, 1/2], [0, 3/4], [0, 1/4]])\n",
    "    assert np.allclose(mra.ML, ML_ref)"
   ]
  },
  {
   "cell_type": "markdown",
   "id": "8add9133",
   "metadata": {},
   "source": [
    "- Primbs - 2006, Beispiel 3.18:  \n",
    "    For $d = 2$, $M^L = [[1], [1/2]]$  \n",
    "    For $d = 3$, $M^L = [[1, 0], [1/2, 1/2], [0, 3/4], [0, 1/4]]$"
   ]
  },
  {
   "cell_type": "code",
   "execution_count": null,
   "id": "4f4b0420",
   "metadata": {},
   "outputs": [],
   "source": [
    "j = 5\n",
    "M0 = mra.refinement_matrix(j)\n",
    "plt.rcParams['figure.figsize'] = [20, 10]\n",
    "plt.spy(M0, marker='o', markersize=5)\n",
    "plt.show()"
   ]
  },
  {
   "cell_type": "markdown",
   "id": "6f35bf5e",
   "metadata": {},
   "source": [
    "- Primbs - 2006, Abbildung 3.5"
   ]
  },
  {
   "cell_type": "code",
   "execution_count": null,
   "id": "a76e5902",
   "metadata": {},
   "outputs": [],
   "source": [
    "j = 3\n",
    "plt.rcParams['figure.figsize'] = plt.rcParamsDefault['figure.figsize']\n",
    "mra.plot(j)"
   ]
  },
  {
   "cell_type": "markdown",
   "id": "17a04517",
   "metadata": {},
   "source": [
    "- Primbs - 2006, Abbildung 3.2-3.4"
   ]
  },
  {
   "cell_type": "code",
   "execution_count": null,
   "id": "4f44f21e",
   "metadata": {},
   "outputs": [],
   "source": [
    "# basis functions constructed using refinement relation\n",
    "mra.plot(j, from_refine_mat=True)"
   ]
  },
  {
   "cell_type": "code",
   "execution_count": null,
   "id": "eed88576",
   "metadata": {},
   "outputs": [],
   "source": []
  }
 ],
 "metadata": {
  "kernelspec": {
   "display_name": "Python 3",
   "language": "python",
   "name": "python3"
  },
  "language_info": {
   "codemirror_mode": {
    "name": "ipython",
    "version": 3
   },
   "file_extension": ".py",
   "mimetype": "text/x-python",
   "name": "python",
   "nbconvert_exporter": "python",
   "pygments_lexer": "ipython3",
   "version": "3.8.10"
  }
 },
 "nbformat": 4,
 "nbformat_minor": 5
}
