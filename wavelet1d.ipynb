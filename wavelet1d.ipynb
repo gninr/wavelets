{
 "cells": [
  {
   "cell_type": "code",
   "execution_count": null,
   "id": "a6d8f579",
   "metadata": {},
   "outputs": [],
   "source": [
    "from wavelet1d import *\n",
    "from scipy.integrate import quad\n",
    "from scipy.linalg import eigvalsh"
   ]
  },
  {
   "cell_type": "code",
   "execution_count": null,
   "id": "0888cf39",
   "metadata": {},
   "outputs": [],
   "source": [
    "d = 3\n",
    "d_t = 5"
   ]
  },
  {
   "cell_type": "markdown",
   "id": "18398367",
   "metadata": {},
   "source": [
    "# Primal MRA"
   ]
  },
  {
   "cell_type": "code",
   "execution_count": null,
   "id": "afee1256",
   "metadata": {},
   "outputs": [],
   "source": [
    "mra = PrimalMRA(d)"
   ]
  },
  {
   "cell_type": "code",
   "execution_count": null,
   "id": "74c5295e",
   "metadata": {},
   "outputs": [],
   "source": [
    "print(mra.ML)\n",
    "\n",
    "ML_test = PrimalMRA(2).ML\n",
    "ML_ref = np.array([[1],[1/2]])\n",
    "assert np.allclose(ML_test, ML_ref)\n",
    "\n",
    "ML_test = PrimalMRA(3).ML\n",
    "ML_ref = np.array([[1, 0], [1/2, 1/2], [0, 3/4], [0, 1/4]])\n",
    "assert np.allclose(ML_test, ML_ref)"
   ]
  },
  {
   "cell_type": "markdown",
   "id": "23d5c52e",
   "metadata": {},
   "source": [
    "- Primbs - 2006, Beispiel 3.18"
   ]
  },
  {
   "cell_type": "code",
   "execution_count": null,
   "id": "8f9477ff",
   "metadata": {},
   "outputs": [],
   "source": [
    "j = 5\n",
    "M0 = mra.refinement_matrix(j)\n",
    "plt.rcParams['figure.figsize'] = [5, 10]\n",
    "plt.spy(M0, marker='o', markersize=5)\n",
    "plt.show()"
   ]
  },
  {
   "cell_type": "markdown",
   "id": "98e0409a",
   "metadata": {},
   "source": [
    "- Primbs - 2006, Abbildung 3.5"
   ]
  },
  {
   "cell_type": "code",
   "execution_count": null,
   "id": "5c5d675d",
   "metadata": {},
   "outputs": [],
   "source": [
    "j = 3\n",
    "plt.rcParams['figure.figsize'] = plt.rcParamsDefault['figure.figsize']\n",
    "mra.plot(j)\n",
    "\n",
    "# basis functions constructed using refinement relation\n",
    "mra.plot(j, nu=0, from_refine_mat=True)"
   ]
  },
  {
   "cell_type": "markdown",
   "id": "3c04ae12",
   "metadata": {},
   "source": [
    "- Primbs - 2006, Abbildung 3.2-3.4"
   ]
  },
  {
   "cell_type": "code",
   "execution_count": null,
   "id": "9a53b8e6",
   "metadata": {},
   "outputs": [],
   "source": [
    "j = 5\n",
    "G = mra.gramian(j)\n",
    "\n",
    "bs = mra.basis_functions(j)\n",
    "n = G.shape[0]\n",
    "G_quad = np.empty((n, n))\n",
    "for k in range(n):\n",
    "    supp_k = mra.support(j, k)\n",
    "    for m in range(n):\n",
    "        supp_m = mra.support(j, m)\n",
    "        xmin = max(supp_k[0], supp_m[0])\n",
    "        xmax = min(supp_k[1], supp_m[1])\n",
    "        if xmin >= xmax:\n",
    "            G_quad[k, m] = 0.\n",
    "        else:\n",
    "            G_quad[k, m] = quad(lambda x: bs[k](x)*bs[m](x), xmin, xmax)[0]\n",
    "assert np.allclose(G, G_quad)"
   ]
  },
  {
   "cell_type": "code",
   "execution_count": null,
   "id": "f9e72b3b",
   "metadata": {},
   "outputs": [],
   "source": [
    "G_test = PrimalMRA(3).gramian(3)\n",
    "G_ref = np.array([\n",
    "    [1/5, 7/60, 1/60, 0, 0, 0, 0, 0, 0, 0],\n",
    "    [7/60, 1/3, 5/24, 1/120, 0, 0, 0, 0, 0, 0],\n",
    "    [1/60, 5/24, 11/20, 13/60, 1/120, 0, 0, 0, 0, 0],\n",
    "    [0, 1/120, 13/60, 11/20, 13/60, 1/120, 0, 0, 0, 0],\n",
    "    [0, 0, 1/120, 13/60, 11/20, 13/60, 1/120, 0, 0, 0],\n",
    "    [0, 0, 0, 1/120, 13/60, 11/20, 13/60, 1/120, 0, 0],\n",
    "    [0, 0, 0, 0, 1/120, 13/60, 11/20, 13/60, 1/120, 0],\n",
    "    [0, 0, 0, 0, 0, 1/120, 13/60, 11/20, 5/24, 1/60],\n",
    "    [0, 0, 0, 0, 0, 0, 1/120, 5/24, 1/3, 7/60],\n",
    "    [0, 0, 0, 0, 0, 0, 0, 1/60, 7/60, 1/5]])\n",
    "assert np.allclose(G_test, G_ref)"
   ]
  },
  {
   "cell_type": "markdown",
   "id": "ac19d66a",
   "metadata": {},
   "source": [
    "- Primbs - 2008, Section 5.1"
   ]
  },
  {
   "cell_type": "code",
   "execution_count": null,
   "id": "69a04ab9",
   "metadata": {},
   "outputs": [],
   "source": [
    "# riesz constants\n",
    "n = G.shape[0]\n",
    "c1 = np.sqrt(eigvalsh(G, subset_by_index=[0, 0])[0])\n",
    "c2 = np.sqrt(eigvalsh(G, subset_by_index=[n-1, n-1])[0])\n",
    "print(\"c1 =\", c1)\n",
    "print(\"c2 =\", c2)\n",
    "print(\"c2/c1 =\", c2/c1)\n",
    "\n",
    "G_test = PrimalMRA(2).gramian(5)\n",
    "n = G_test.shape[0]\n",
    "c1_test = np.sqrt(eigvalsh(G_test, subset_by_index=[0, 0])[0])\n",
    "c2_test = np.sqrt(eigvalsh(G_test, subset_by_index=[n-1, n-1])[0])\n",
    "c1_ref = 0.5\n",
    "c2_ref = 0.999\n",
    "assert np.isclose(c1_test, c1_ref, atol=1e-3)\n",
    "assert np.isclose(c2_test, c2_ref, atol=1e-3)\n",
    "\n",
    "G_test = PrimalMRA(3).gramian(5)\n",
    "n = G_test.shape[0]\n",
    "c1_test = np.sqrt(eigvalsh(G_test, subset_by_index=[0, 0])[0])\n",
    "c2_test = np.sqrt(eigvalsh(G_test, subset_by_index=[n-1, n-1])[0])\n",
    "c1_ref = 0.308\n",
    "c2_ref = 0.999\n",
    "assert np.isclose(c1_test, c1_ref, atol=1e-3)\n",
    "assert np.isclose(c2_test, c2_ref, atol=1e-3)\n",
    "\n",
    "G_test = PrimalMRA(4).gramian(6)\n",
    "n = G_test.shape[0]\n",
    "c1_test = np.sqrt(eigvalsh(G_test, subset_by_index=[0, 0])[0])\n",
    "c2_test = np.sqrt(eigvalsh(G_test, subset_by_index=[n-1, n-1])[0])\n",
    "c1_ref = 0.193\n",
    "c2_ref = 0.999\n",
    "assert np.isclose(c1_test, c1_ref, atol=1e-3)\n",
    "assert np.isclose(c2_test, c2_ref, atol=1e-3)"
   ]
  },
  {
   "cell_type": "markdown",
   "id": "a35a469f",
   "metadata": {},
   "source": [
    "- Primbs - 2010, Table 1"
   ]
  },
  {
   "cell_type": "code",
   "execution_count": null,
   "id": "35a371c1",
   "metadata": {},
   "outputs": [],
   "source": [
    "j = 3\n",
    "A = mra.inner_product(j, nu=1)\n",
    "\n",
    "bs = mra.basis_functions(j, nu=1)\n",
    "n = A.shape[0]\n",
    "A_quad = np.empty((n, n))\n",
    "for k in range(n):\n",
    "    supp_k = mra.support(j, k)\n",
    "    for m in range(n):\n",
    "        supp_m = mra.support(j, m)\n",
    "        xmin = max(supp_k[0], supp_m[0])\n",
    "        xmax = min(supp_k[1], supp_m[1])\n",
    "        if xmin >= xmax:\n",
    "            A_quad[k, m] = 0.\n",
    "        else:\n",
    "            A_quad[k, m] = quad(lambda x: bs[k](x)*bs[m](x), xmin, xmax)[0]\n",
    "assert np.allclose(A, A_quad)"
   ]
  },
  {
   "cell_type": "code",
   "execution_count": null,
   "id": "1801f75c",
   "metadata": {},
   "outputs": [],
   "source": [
    "A_test = PrimalMRA(3).inner_product(3, nu=1)\n",
    "A_ref = np.array([\n",
    "    [256/3, -64, -64/3, 0, 0, 0, 0, 0, 0, 0],\n",
    "    [-64, 256/3, -32/3, -32/3, 0, 0, 0, 0, 0, 0],\n",
    "    [-64/3, -32/3, 64, -64/3, -32/3, 0, 0, 0, 0, 0],\n",
    "    [0, -32/3, -64/3, 64, -64/3, -32/3, 0, 0, 0, 0],\n",
    "    [0, 0, -32/3, -64/3, 64, -64/3, -32/3, 0, 0, 0],\n",
    "    [0, 0, 0, -32/3, -64/3, 64, -64/3, -32/3, 0, 0],\n",
    "    [0, 0, 0, 0, -32/3, -64/3, 64, -64/3, -32/3, 0],\n",
    "    [0, 0, 0, 0, 0, -32/3, -64/3, 64, -32/3, -64/3],\n",
    "    [0, 0, 0, 0, 0, 0, -32/3, -32/3, 256/3, -64],\n",
    "    [0, 0, 0, 0, 0, 0, 0, -64/3, -64, 256/3]])\n",
    "assert np.allclose(A_test, A_ref)"
   ]
  },
  {
   "cell_type": "markdown",
   "id": "d628847e",
   "metadata": {},
   "source": [
    "- Primbs - 2006, Beispiel 3.26"
   ]
  },
  {
   "cell_type": "markdown",
   "id": "82ade2c7",
   "metadata": {},
   "source": [
    "# Dual MRA"
   ]
  },
  {
   "cell_type": "code",
   "execution_count": null,
   "id": "d70d9d6c",
   "metadata": {},
   "outputs": [],
   "source": [
    "mra_t = DualMRA(d, d_t)"
   ]
  },
  {
   "cell_type": "code",
   "execution_count": null,
   "id": "2e205604",
   "metadata": {},
   "outputs": [],
   "source": [
    "ML_test = DualMRA(3, 5).ML\n",
    "ML_ref = np.array([\n",
    "    [5/3, -2359/3840, 101909/345600, -17611/115200, 3119/57600, -61/6912],\n",
    "    [2/3, 2359/1920, -101909/172800, 17611/57600, -3119/28800, 61/3456],\n",
    "    [-1/2, 2503/1280, -18413/115200, 1027/38400, -83/19200, 1/2304],\n",
    "    [1/6, -1243/3840, 573353/345600, -79687/115200, 13223/57600, -253/6912],\n",
    "    [0, -77/256, 2583/2560, 789/2560, -181/1280, 19/768],\n",
    "    [0, -21/256, 399/2560, 2877/2560, -333/1280, 9/256],\n",
    "    [0, 105/512, -547/1024, 1523/1024, -79/512, 43/512],\n",
    "    [0, -35/512, 129/1024, -145/1024, 709/512, -587/1536],\n",
    "    [0, 0, 15/256, -97/256, 175/128, -13/128],\n",
    "    [0, 0, -5/256, 19/256, -13/128, 175/128],\n",
    "    [0, 0, 0, 15/256, -97/256, 175/128],\n",
    "    [0, 0, 0, -5/256, 19/256, -13/128],\n",
    "    [0, 0, 0, 0, 15/256, -97/256],\n",
    "    [0, 0, 0, 0, -5/256, 19/256],\n",
    "    [0, 0, 0, 0, 0, 15/256],\n",
    "    [0, 0, 0, 0, 0, -5/256]])\n",
    "assert np.allclose(ML_test, ML_ref)"
   ]
  },
  {
   "cell_type": "code",
   "execution_count": null,
   "id": "fcd61127",
   "metadata": {
    "scrolled": false
   },
   "outputs": [],
   "source": [
    "j = 5\n",
    "M0 = mra_t.refinement_matrix(j)\n",
    "plt.rcParams['figure.figsize'] = [5, 10]\n",
    "plt.spy(M0, marker='o', markersize=5)\n",
    "plt.show()"
   ]
  },
  {
   "cell_type": "markdown",
   "id": "87807f02",
   "metadata": {},
   "source": [
    "- Primbs - 2006, Abbildung 4.5"
   ]
  },
  {
   "cell_type": "code",
   "execution_count": null,
   "id": "18d5f815",
   "metadata": {},
   "outputs": [],
   "source": [
    "# biorthogonality\n",
    "j = 5\n",
    "M0 = mra.refinement_matrix(j)\n",
    "M0_t = mra_t.refinement_matrix(j)\n",
    "assert np.allclose(M0.T @ M0_t, np.identity(M0.shape[1]))"
   ]
  },
  {
   "cell_type": "markdown",
   "id": "81956725",
   "metadata": {},
   "source": [
    "# Wavelet Basis"
   ]
  },
  {
   "cell_type": "code",
   "execution_count": null,
   "id": "d1263587",
   "metadata": {},
   "outputs": [],
   "source": [
    "wb = WaveletBasis(d, d_t)"
   ]
  },
  {
   "cell_type": "code",
   "execution_count": null,
   "id": "7aefd445",
   "metadata": {
    "scrolled": false
   },
   "outputs": [],
   "source": [
    "j = 5\n",
    "M0, M1, M0_t, M1_t = wb.refinement_matrix(j)\n",
    "\n",
    "plt.rcParams['figure.figsize'] = [8.5, 17]\n",
    "plt.subplot(221)\n",
    "plt.spy(M0, marker='o', markersize=5)\n",
    "plt.subplot(222)\n",
    "plt.spy(M1, marker='o', markersize=5)\n",
    "plt.subplot(223)\n",
    "plt.spy(M0_t, marker='o', markersize=5)\n",
    "plt.subplot(224)\n",
    "plt.spy(M1_t, marker='o', markersize=5)\n",
    "plt.show()"
   ]
  },
  {
   "cell_type": "markdown",
   "id": "f38e6ec0",
   "metadata": {},
   "source": [
    "- Primbs - 2006, Abbildung 5.2"
   ]
  },
  {
   "cell_type": "code",
   "execution_count": null,
   "id": "de189288",
   "metadata": {},
   "outputs": [],
   "source": [
    "# symmetry\n",
    "assert np.allclose(M0, M0[::-1, ::-1])\n",
    "assert np.allclose(M1, M1[::-1, ::-1])\n",
    "assert np.allclose(M0_t, M0_t[::-1, ::-1])\n",
    "assert np.allclose(M1_t, M1_t[::-1, ::-1])"
   ]
  },
  {
   "cell_type": "code",
   "execution_count": null,
   "id": "9bbf257d",
   "metadata": {},
   "outputs": [],
   "source": [
    "# biorthogonality\n",
    "M = np.hstack((M0, M1))\n",
    "M_t = np.hstack((M0_t, M1_t))\n",
    "assert np.allclose(M.T @ M_t, np.identity(M.shape[0]))"
   ]
  },
  {
   "cell_type": "code",
   "execution_count": null,
   "id": "498a4138",
   "metadata": {},
   "outputs": [],
   "source": [
    "_, M1_test, _, M1_t_test = WaveletBasis(3, 5).refinement_matrix(5)\n",
    "\n",
    "GL_test = 3 * np.sqrt(2) * M1_test[:12, :3]\n",
    "GL_ref = np.array([\n",
    "    [3/4, 0, 0],\n",
    "    [-12123/10240, -63/256, 35/256],\n",
    "    [535021/614400, 147/5120, 21/1024],\n",
    "    [-31139/204800, 5481/5120, -497/1024],\n",
    "    [-42149/102400, -3969/2560, -7/512],\n",
    "    [5659/61440, 85/512, 735/512],\n",
    "    [9319/40960, 699/1024, -1295/1024],\n",
    "    [-1103/204800, -3/5120, -117/1024],\n",
    "    [-13273/153600, -311/1280, 253/768],\n",
    "    [-797/51200, -57/1280, 17/256],\n",
    "    [61/4096, 21/512, -25/512],\n",
    "    [61/12288, 7/512, -25/1536]])\n",
    "assert np.allclose(GL_test, GL_ref)\n",
    "\n",
    "GL_t_test = 1 / 3 * np.sqrt(2) * M1_t_test[:8, :3]\n",
    "GL_t_ref = np.array([\n",
    "    [4/9, 0, 0],\n",
    "    [-8/9, 0, 0],\n",
    "    [2/3, -1/4, 0],\n",
    "    [-2/9, 3/4, 0],\n",
    "    [0, -3/4, -1/4],\n",
    "    [0, 1/4, 3/4],\n",
    "    [0, 0, -3/4],\n",
    "    [0, 0, 1/4]])\n",
    "assert np.allclose(GL_t_test, GL_t_ref)"
   ]
  },
  {
   "cell_type": "markdown",
   "id": "6d370d57",
   "metadata": {},
   "source": [
    "- Primbs - 2006, Beispiel 5.9"
   ]
  },
  {
   "cell_type": "code",
   "execution_count": null,
   "id": "d4c5bf8a",
   "metadata": {},
   "outputs": [],
   "source": [
    "j = 5\n",
    "plt.rcParams['figure.figsize'] = plt.rcParamsDefault['figure.figsize']\n",
    "wb.plot(j, 0)\n",
    "wb.plot(j, 1)\n",
    "wb.plot(j, 2)"
   ]
  },
  {
   "cell_type": "markdown",
   "id": "2c8ff8f9",
   "metadata": {},
   "source": [
    "- Primbs - 2006, Abbildung 5.4"
   ]
  },
  {
   "cell_type": "code",
   "execution_count": null,
   "id": "f5cddcd3",
   "metadata": {},
   "outputs": [],
   "source": []
  }
 ],
 "metadata": {
  "kernelspec": {
   "display_name": "Python 3",
   "language": "python",
   "name": "python3"
  },
  "language_info": {
   "codemirror_mode": {
    "name": "ipython",
    "version": 3
   },
   "file_extension": ".py",
   "mimetype": "text/x-python",
   "name": "python",
   "nbconvert_exporter": "python",
   "pygments_lexer": "ipython3",
   "version": "3.8.10"
  }
 },
 "nbformat": 4,
 "nbformat_minor": 5
}
