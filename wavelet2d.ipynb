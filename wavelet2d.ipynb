{
 "cells": [
  {
   "cell_type": "code",
   "execution_count": null,
   "id": "69376b08",
   "metadata": {},
   "outputs": [],
   "source": [
    "from wavelet2d import *\n",
    "import matplotlib.pyplot as plt\n",
    "from scipy.linalg import eigvalsh"
   ]
  },
  {
   "cell_type": "code",
   "execution_count": null,
   "id": "796b513f",
   "metadata": {},
   "outputs": [],
   "source": [
    "d = [3, 3]\n",
    "d_t = [5, 5]\n",
    "wb = MultidimensionalWaveletBasis(d, d_t, [True, True])"
   ]
  },
  {
   "cell_type": "code",
   "execution_count": null,
   "id": "ffc8015e",
   "metadata": {},
   "outputs": [],
   "source": [
    "J = 6\n",
    "bs = wb.basis_functions(J)"
   ]
  },
  {
   "cell_type": "code",
   "execution_count": null,
   "id": "ebe6c134",
   "metadata": {},
   "outputs": [],
   "source": [
    "j = 4\n",
    "e = (1, 0)\n",
    "k = (0, 6)\n",
    "for dim in range(wb.dim):\n",
    "    w1d = wb.w1d[dim]\n",
    "    if e[dim] == 0:\n",
    "        w1d.mra.plot(j, k[dim])\n",
    "    else:\n",
    "        w1d.wb.plot(j, k[dim])\n",
    "wb.plot(bs, j, e, k)"
   ]
  },
  {
   "cell_type": "code",
   "execution_count": null,
   "id": "b47b76ed",
   "metadata": {},
   "outputs": [],
   "source": [
    "j0 = 4\n",
    "s = 2\n",
    "G = wb.gramian(s, j0)\n",
    "\n",
    "plt.rcParams['figure.figsize'] = [7, 7]\n",
    "plt.spy(G, marker='o', markersize=1)\n",
    "plt.show()"
   ]
  },
  {
   "cell_type": "code",
   "execution_count": null,
   "id": "731e5c10",
   "metadata": {},
   "outputs": [],
   "source": [
    "# riesz constants\n",
    "n = G.shape[0]\n",
    "C1 = np.sqrt(eigvalsh(G, subset_by_index=[0, 0])[0])\n",
    "C2 = np.sqrt(eigvalsh(G, subset_by_index=[n-1, n-1])[0])\n",
    "print(\"C1 =\", C1)\n",
    "print(\"C2 =\", C2)\n",
    "print(\"C2/C1 =\", C2/C1)"
   ]
  },
  {
   "cell_type": "code",
   "execution_count": null,
   "id": "a58265c6",
   "metadata": {},
   "outputs": [],
   "source": [
    "# riesz constants\n",
    "n = G.shape[0]\n",
    "D = np.diag(1 / np.sqrt(np.diag(G)))\n",
    "G = D @ G @ D\n",
    "C1 = np.sqrt(eigvalsh(G, subset_by_index=[0, 0])[0])\n",
    "C2 = np.sqrt(eigvalsh(G, subset_by_index=[n-1, n-1])[0])\n",
    "print(\"C1 =\", C1)\n",
    "print(\"C2 =\", C2)\n",
    "print(\"C2/C1 =\", C2/C1)"
   ]
  },
  {
   "cell_type": "code",
   "execution_count": null,
   "id": "00f6298b",
   "metadata": {},
   "outputs": [],
   "source": [
    "j0 = 4\n",
    "s = 2\n",
    "nu = 1\n",
    "A = wb.inner_product(s, j0, nu)\n",
    "\n",
    "plt.rcParams['figure.figsize'] = [7, 7]\n",
    "plt.spy(A, marker='o', markersize=1, precision=1e-12)\n",
    "plt.show()"
   ]
  },
  {
   "cell_type": "code",
   "execution_count": null,
   "id": "d2493c10",
   "metadata": {},
   "outputs": [],
   "source": [
    "# uniform stability\n",
    "D = np.diag(1 / np.sqrt(np.diag(A)))\n",
    "A = D @ A @ D\n",
    "cond = np.linalg.cond(A)\n",
    "print(\"cond =\", cond)"
   ]
  },
  {
   "cell_type": "code",
   "execution_count": null,
   "id": "4a597dba",
   "metadata": {},
   "outputs": [],
   "source": []
  }
 ],
 "metadata": {
  "kernelspec": {
   "display_name": "Python 3",
   "language": "python",
   "name": "python3"
  },
  "language_info": {
   "codemirror_mode": {
    "name": "ipython",
    "version": 3
   },
   "file_extension": ".py",
   "mimetype": "text/x-python",
   "name": "python",
   "nbconvert_exporter": "python",
   "pygments_lexer": "ipython3",
   "version": "3.8.10"
  }
 },
 "nbformat": 4,
 "nbformat_minor": 5
}
