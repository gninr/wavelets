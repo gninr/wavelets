{
 "cells": [
  {
   "cell_type": "code",
   "execution_count": null,
   "id": "61506722",
   "metadata": {},
   "outputs": [],
   "source": [
    "from scaling_function import *\n",
    "from scipy.integrate import quad"
   ]
  },
  {
   "cell_type": "code",
   "execution_count": null,
   "id": "f8e6f11d",
   "metadata": {},
   "outputs": [],
   "source": [
    "d = 3\n",
    "d_t = 5"
   ]
  },
  {
   "cell_type": "markdown",
   "id": "c74e3836",
   "metadata": {},
   "source": [
    "# Scaling Function"
   ]
  },
  {
   "cell_type": "code",
   "execution_count": null,
   "id": "93c56aea",
   "metadata": {},
   "outputs": [],
   "source": [
    "sf = PrimalScalingFunction(d)\n",
    "sf.plot()"
   ]
  },
  {
   "cell_type": "markdown",
   "id": "d6015fe4",
   "metadata": {},
   "source": [
    "- Urban - 2009, Figure 2.11-2.14"
   ]
  },
  {
   "cell_type": "code",
   "execution_count": null,
   "id": "aa04ebba",
   "metadata": {},
   "outputs": [],
   "source": [
    "l1_norm = quad(sf, sf.l1, sf.l2)[0]\n",
    "print(\"L1 norm =\", l1_norm)\n",
    "assert np.isclose(l1_norm, 1.)\n",
    "\n",
    "l2_norm = np.sqrt(quad(lambda x: sf(x)**2, sf.l1, sf.l2)[0])\n",
    "print(\"L2 norm =\", l2_norm)"
   ]
  },
  {
   "cell_type": "code",
   "execution_count": null,
   "id": "94a39d95",
   "metadata": {
    "scrolled": true
   },
   "outputs": [],
   "source": [
    "# L2 normalization\n",
    "sf.plot(scale=1./l2_norm)"
   ]
  },
  {
   "cell_type": "markdown",
   "id": "35aad886",
   "metadata": {},
   "source": [
    "- Urban - 2009, Figure 5.5-5.11"
   ]
  },
  {
   "cell_type": "code",
   "execution_count": null,
   "id": "a6103c55",
   "metadata": {},
   "outputs": [],
   "source": [
    "# partition of unity\n",
    "nx = 200\n",
    "x = np.linspace(-d, d, nx)\n",
    "s = np.zeros(nx)\n",
    "for k in range(sf.l1, sf.l2 + 1):\n",
    "    s += sf(x + k)\n",
    "plt.plot(x, s)\n",
    "plt.show()\n",
    "assert np.isclose(s[nx//2], 1.)"
   ]
  },
  {
   "cell_type": "code",
   "execution_count": null,
   "id": "5425bcad",
   "metadata": {},
   "outputs": [],
   "source": [
    "# first order derivative\n",
    "sf.plot(nu=1)\n",
    "\n",
    "sf_deriv = sf.derivative()\n",
    "h1_norm = np.sqrt(quad(lambda x: sf_deriv(x)**2, sf.l1, sf.l2)[0] + l2_norm**2)\n",
    "print(\"H1 norm =\", h1_norm)"
   ]
  },
  {
   "cell_type": "code",
   "execution_count": null,
   "id": "860515f7",
   "metadata": {},
   "outputs": [],
   "source": [
    "a = sf.refinement_coeffs()\n",
    "sum_a = a.sum()\n",
    "print(\"refinement coefficients =\", a)\n",
    "print(\"sum =\", sum_a)\n",
    "assert np.isclose(sum_a, 2.)"
   ]
  },
  {
   "cell_type": "markdown",
   "id": "6a0c0453",
   "metadata": {},
   "source": [
    "- Urban - 2009, Table 2.6-2.7"
   ]
  },
  {
   "cell_type": "code",
   "execution_count": null,
   "id": "20905be5",
   "metadata": {},
   "outputs": [],
   "source": [
    "g = sf.gramian()\n",
    "if d == 3:\n",
    "    g_ref = np.array([1/120, 13/60, 11/20, 13/60, 1/120])\n",
    "    assert np.allclose(g, g_ref)\n",
    "\n",
    "l2_norm_g = np.sqrt(g[d-1])\n",
    "print(\"L2 norm from gramian =\", l2_norm_g)\n",
    "print(\"L2 norm from quadrature =\", l2_norm)\n",
    "assert np.isclose(l2_norm_g, l2_norm)"
   ]
  },
  {
   "cell_type": "markdown",
   "id": "be872322",
   "metadata": {},
   "source": [
    "- Primbs - 2008: For $d = 3$, $g = [1/120, 13/60, 11/20, 13/60, 1/120]$"
   ]
  },
  {
   "cell_type": "code",
   "execution_count": null,
   "id": "b4de85d6",
   "metadata": {},
   "outputs": [],
   "source": [
    "h = sf.inner_product(nu=1)\n",
    "if d == 3:\n",
    "    h_ref = np.array([-32/3, -64/3, 64, -64/3, -32/3]) / 2**6\n",
    "    assert np.allclose(h, h_ref)\n",
    "\n",
    "h1_norm_h = np.sqrt(h[d-1] + g[d-1])\n",
    "print(\"H1 norm from inner product =\", h1_norm_h)\n",
    "print(\"H1 norm from quadrature =\", h1_norm)\n",
    "assert np.isclose(h1_norm_h, h1_norm)"
   ]
  },
  {
   "cell_type": "markdown",
   "id": "d8607e2d",
   "metadata": {},
   "source": [
    "- Primbs - 2006, Beispiel 3.26: For $d = 3$ and $j = 3$, $h = [-32/3, -64/3, 64, -64/3, -32/3]$"
   ]
  },
  {
   "cell_type": "markdown",
   "id": "932a7ae8",
   "metadata": {},
   "source": [
    "# Dual Scaling Function"
   ]
  },
  {
   "cell_type": "code",
   "execution_count": null,
   "id": "46baaaf2",
   "metadata": {},
   "outputs": [],
   "source": [
    "sf_t = DualScalingFunction(d, d_t)\n",
    "sf_t.plot()"
   ]
  },
  {
   "cell_type": "markdown",
   "id": "3d71300c",
   "metadata": {},
   "source": [
    "- Urban - 2009, Figure 2.11-2.14"
   ]
  },
  {
   "cell_type": "code",
   "execution_count": null,
   "id": "a007c1c9",
   "metadata": {},
   "outputs": [],
   "source": [
    "l1_norm = quad(sf_t, sf_t.l1, sf_t.l2)[0]\n",
    "print(\"L1 norm =\", l1_norm)\n",
    "assert np.isclose(l1_norm, 1., atol=1e-3)\n",
    "\n",
    "l2_norm = np.sqrt(quad(lambda x: sf_t(x)**2, sf_t.l1, sf_t.l2)[0])\n",
    "print(\"L2 norm =\", l2_norm)"
   ]
  },
  {
   "cell_type": "code",
   "execution_count": null,
   "id": "b36bd033",
   "metadata": {
    "scrolled": true
   },
   "outputs": [],
   "source": [
    "# L2 normalization\n",
    "sf_t.plot(scale=1./l2_norm)"
   ]
  },
  {
   "cell_type": "markdown",
   "id": "005cc867",
   "metadata": {},
   "source": [
    "- Urban - 2009, Figure 5.5-5.11"
   ]
  },
  {
   "cell_type": "code",
   "execution_count": null,
   "id": "d2f8c640",
   "metadata": {},
   "outputs": [],
   "source": [
    "a = sf_t.refinement_coeffs()\n",
    "sum_a = a.sum()\n",
    "print(\"refinement coefficients =\", a)\n",
    "print(\"sum =\", sum_a)\n",
    "assert np.isclose(sum_a, 2.)"
   ]
  },
  {
   "cell_type": "markdown",
   "id": "22748fde",
   "metadata": {},
   "source": [
    "- Urban - 2009, Table 2.6-2.7"
   ]
  },
  {
   "cell_type": "code",
   "execution_count": null,
   "id": "e72a6f35",
   "metadata": {},
   "outputs": [],
   "source": [
    "# partition of unity\n",
    "nx = 200\n",
    "x = np.linspace(-d-2*(d_t-1), d+2*(d_t-1), nx)\n",
    "s = np.zeros(nx)\n",
    "for k in range(sf_t.l1, sf_t.l2 + 1):\n",
    "    s += sf_t(x + k)\n",
    "plt.plot(x, s)\n",
    "plt.show()\n",
    "assert np.isclose(s[nx//2], 1.)"
   ]
  },
  {
   "cell_type": "code",
   "execution_count": null,
   "id": "b0bc5a66",
   "metadata": {},
   "outputs": [],
   "source": [
    "# biorthogonality\n",
    "res = []\n",
    "for k in range(sf.l1-sf_t.l2+1, sf.l2-sf_t.l1):\n",
    "    res.append(quad(lambda x: sf(x)*sf_t(x-k), sf.l1, sf.l2)[0])\n",
    "res = np.array(res)\n",
    "print(\"biorthogonality:\")\n",
    "print(res)\n",
    "\n",
    "exact = np.zeros_like(res)\n",
    "exact[res.size//2] = 1.\n",
    "assert np.allclose(res, exact, atol=1e-3)"
   ]
  },
  {
   "cell_type": "markdown",
   "id": "dfc7bc40",
   "metadata": {},
   "source": [
    "# Mother Wavelet"
   ]
  },
  {
   "cell_type": "code",
   "execution_count": null,
   "id": "470f2d55",
   "metadata": {},
   "outputs": [],
   "source": [
    "mw = MotherWavelet(d, d_t)\n",
    "mw.plot()"
   ]
  },
  {
   "cell_type": "code",
   "execution_count": null,
   "id": "10f6cc14",
   "metadata": {},
   "outputs": [],
   "source": [
    "l1_norm = quad(mw, mw.l1, mw.l2)[0]\n",
    "print(\"L1 norm =\", l1_norm)\n",
    "assert np.isclose(l1_norm, 0.)\n",
    "\n",
    "l2_norm = np.sqrt(quad(lambda x: mw(x)**2, mw.l1, mw.l2)[0])\n",
    "print(\"L2 norm =\", l2_norm)"
   ]
  },
  {
   "cell_type": "code",
   "execution_count": null,
   "id": "9306de5d",
   "metadata": {
    "scrolled": true
   },
   "outputs": [],
   "source": [
    "# L2 normalization\n",
    "mw.plot(scale=1./l2_norm)"
   ]
  },
  {
   "cell_type": "markdown",
   "id": "444a2682",
   "metadata": {},
   "source": [
    "- Urban - 2009, Figure 5.5-5.11 (unknown normalization)"
   ]
  },
  {
   "cell_type": "code",
   "execution_count": null,
   "id": "2fa757ae",
   "metadata": {},
   "outputs": [],
   "source": [
    "# first order derivative\n",
    "mw.plot(nu=1)\n",
    "\n",
    "mw_deriv = mw.derivative()\n",
    "h1_norm = np.sqrt(quad(lambda x: mw_deriv(x)**2, mw.l1, mw.l2)[0] + l2_norm**2)\n",
    "print(\"H1 norm =\", h1_norm)"
   ]
  },
  {
   "cell_type": "code",
   "execution_count": null,
   "id": "664480ed",
   "metadata": {},
   "outputs": [],
   "source": [
    "g = mw.gramian()\n",
    "l2_norm_g = np.sqrt(g[d+d_t-2])\n",
    "print(\"L2 norm from gramian =\", l2_norm_g)\n",
    "print(\"L2 norm from quadrature =\", l2_norm)\n",
    "assert np.isclose(l2_norm_g, l2_norm)"
   ]
  },
  {
   "cell_type": "code",
   "execution_count": null,
   "id": "f7ab1766",
   "metadata": {},
   "outputs": [],
   "source": [
    "h = mw.inner_product(nu=1)\n",
    "h1_norm_h = np.sqrt(h[d+d_t-2] + g[d+d_t-2])\n",
    "print(\"H1 norm from inner product =\", h1_norm_h)\n",
    "print(\"H1 norm from quadrature =\", h1_norm)\n",
    "assert np.isclose(h1_norm_h, h1_norm)"
   ]
  },
  {
   "cell_type": "code",
   "execution_count": null,
   "id": "5c2b73de",
   "metadata": {},
   "outputs": [],
   "source": []
  }
 ],
 "metadata": {
  "kernelspec": {
   "display_name": "Python 3",
   "language": "python",
   "name": "python3"
  },
  "language_info": {
   "codemirror_mode": {
    "name": "ipython",
    "version": 3
   },
   "file_extension": ".py",
   "mimetype": "text/x-python",
   "name": "python",
   "nbconvert_exporter": "python",
   "pygments_lexer": "ipython3",
   "version": "3.8.10"
  }
 },
 "nbformat": 4,
 "nbformat_minor": 5
}
