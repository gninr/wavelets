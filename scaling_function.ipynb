{
 "cells": [
  {
   "cell_type": "code",
   "execution_count": null,
   "id": "61506722",
   "metadata": {},
   "outputs": [],
   "source": [
    "from scaling_function import *\n",
    "from scipy.integrate import quad"
   ]
  },
  {
   "cell_type": "code",
   "execution_count": null,
   "id": "f8e6f11d",
   "metadata": {},
   "outputs": [],
   "source": [
    "# primal order\n",
    "d = 3\n",
    "# dual order\n",
    "d_t = 5 "
   ]
  },
  {
   "cell_type": "markdown",
   "id": "c74e3836",
   "metadata": {},
   "source": [
    "# Scaling Function"
   ]
  },
  {
   "cell_type": "code",
   "execution_count": null,
   "id": "93c56aea",
   "metadata": {},
   "outputs": [],
   "source": [
    "# initialization\n",
    "sf = PrimalScalingFunction(d)\n",
    "# visualization (see [3, Figure 2.11-2.14])\n",
    "sf.plot()"
   ]
  },
  {
   "cell_type": "code",
   "execution_count": null,
   "id": "aa04ebba",
   "metadata": {},
   "outputs": [],
   "source": [
    "# approximate L1-norm from numerical quadrature\n",
    "l1_norm = quad(sf, sf.l1, sf.l2)[0]\n",
    "print(\"L1 norm =\", l1_norm)\n",
    "# verification of [3, (2.38)]\n",
    "assert np.isclose(l1_norm, 1.)\n",
    "\n",
    "# approximate L2-norm from numerical quadrature\n",
    "l2_norm = np.sqrt(quad(lambda x: sf(x)**2, sf.l1, sf.l2)[0])\n",
    "print(\"L2 norm =\", l2_norm)"
   ]
  },
  {
   "cell_type": "code",
   "execution_count": null,
   "id": "94a39d95",
   "metadata": {
    "scrolled": true
   },
   "outputs": [],
   "source": [
    "# normalization by L2-norm (see [3, Figure 5.5-5.11])\n",
    "sf.plot(scale=1./l2_norm)"
   ]
  },
  {
   "cell_type": "code",
   "execution_count": null,
   "id": "a6103c55",
   "metadata": {},
   "outputs": [],
   "source": [
    "# verification of partition of unity [3, Proposition 2.10]\n",
    "nx = 200\n",
    "x = np.linspace(-d, d, nx)\n",
    "s = np.zeros(nx)\n",
    "for k in range(sf.l1, sf.l2 + 1):\n",
    "    s += sf(x + k)\n",
    "plt.plot(x, s)\n",
    "plt.show()\n",
    "assert np.isclose(s[nx//2], 1.)"
   ]
  },
  {
   "cell_type": "code",
   "execution_count": null,
   "id": "5425bcad",
   "metadata": {},
   "outputs": [],
   "source": [
    "# visualization of derivative\n",
    "sf.plot(nu=1)\n",
    "\n",
    "# approximate H1-norm from numerical quadrature\n",
    "sf_deriv = sf.derivative()\n",
    "h1_norm = np.sqrt(quad(lambda x: sf_deriv(x)**2, sf.l1, sf.l2)[0] + l2_norm**2)\n",
    "print(\"H1 norm =\", h1_norm)"
   ]
  },
  {
   "cell_type": "code",
   "execution_count": null,
   "id": "860515f7",
   "metadata": {},
   "outputs": [],
   "source": [
    "# refinement coefficients (see [3, Table 2.6-2.7])\n",
    "a = sf.refinement_coeffs()\n",
    "\n",
    "# verification of [3, Proposition 2.7]\n",
    "sum_a = a.sum()\n",
    "print(\"refinement coefficients =\", a)\n",
    "print(\"sum =\", sum_a)\n",
    "assert np.isclose(sum_a, 2.)"
   ]
  },
  {
   "cell_type": "code",
   "execution_count": null,
   "id": "20905be5",
   "metadata": {},
   "outputs": [],
   "source": [
    "# entries of Gramian matrix\n",
    "g = sf.gramian()\n",
    "\n",
    "# approximate L2-norm from Gramian matrix\n",
    "l2_norm_g = np.sqrt(g[d-1])\n",
    "print(\"L2 norm from gramian =\", l2_norm_g)\n",
    "print(\"L2 norm from quadrature =\", l2_norm)\n",
    "assert np.isclose(l2_norm_g, l2_norm)"
   ]
  },
  {
   "cell_type": "code",
   "execution_count": null,
   "id": "9ce2a13a",
   "metadata": {},
   "outputs": [],
   "source": [
    "# validation of Gramian matrix for d = 3\n",
    "# reference value from [2, Section 5.1]\n",
    "g_test = PrimalScalingFunction(3).gramian()\n",
    "g_ref = np.array([1/120, 13/60, 11/20, 13/60, 1/120])\n",
    "assert np.allclose(g_test, g_ref)"
   ]
  },
  {
   "cell_type": "code",
   "execution_count": null,
   "id": "b4de85d6",
   "metadata": {},
   "outputs": [],
   "source": [
    "# entries of stiffness matrix\n",
    "h = sf.inner_product(nu=1)\n",
    "\n",
    "# approximate H1-norm from Gramian and stiffness matrix\n",
    "h1_norm_h = np.sqrt(h[d-1] + g[d-1])\n",
    "print(\"H1 norm from inner product =\", h1_norm_h)\n",
    "print(\"H1 norm from quadrature =\", h1_norm)\n",
    "assert np.isclose(h1_norm_h, h1_norm)"
   ]
  },
  {
   "cell_type": "code",
   "execution_count": null,
   "id": "cd85cf09",
   "metadata": {},
   "outputs": [],
   "source": [
    "# validation of first order stiffness matrix for d = 3\n",
    "# reference value from [1, Beispiel 3.26]\n",
    "h_test = PrimalScalingFunction(3).inner_product(nu=1)\n",
    "h_ref = np.array([-32/3, -64/3, 64, -64/3, -32/3]) / 2**6\n",
    "assert np.allclose(h_test, h_ref)"
   ]
  },
  {
   "cell_type": "markdown",
   "id": "932a7ae8",
   "metadata": {},
   "source": [
    "# Dual Scaling Function\n",
    "Due to low regularity of dual scaling functions, results given by numerical quadrature are unreliable ."
   ]
  },
  {
   "cell_type": "code",
   "execution_count": null,
   "id": "46baaaf2",
   "metadata": {},
   "outputs": [],
   "source": [
    "# initialization\n",
    "sf_t = DualScalingFunction(d, d_t)\n",
    "# visualization (see [3, Figure 2.11-2.14])\n",
    "sf_t.plot()"
   ]
  },
  {
   "cell_type": "code",
   "execution_count": null,
   "id": "a007c1c9",
   "metadata": {},
   "outputs": [],
   "source": [
    "# approximate L1-norm from numerical quadrature\n",
    "l1_norm = quad(sf_t, sf_t.l1, sf_t.l2)[0]\n",
    "print(\"L1 norm =\", l1_norm)\n",
    "# verification of [3, (2.38)]\n",
    "# assert np.isclose(l1_norm, 1.)\n",
    "\n",
    "# approximate L2-norm from numerical quadrature\n",
    "l2_norm = np.sqrt(quad(lambda x: sf_t(x)**2, sf_t.l1, sf_t.l2)[0])\n",
    "print(\"L2 norm =\", l2_norm)"
   ]
  },
  {
   "cell_type": "code",
   "execution_count": null,
   "id": "b36bd033",
   "metadata": {
    "scrolled": true
   },
   "outputs": [],
   "source": [
    "# normalization by L2-norm (see [3, Figure 5.5-5.11])\n",
    "sf_t.plot(scale=1./l2_norm)"
   ]
  },
  {
   "cell_type": "code",
   "execution_count": null,
   "id": "e72a6f35",
   "metadata": {},
   "outputs": [],
   "source": [
    "# verification of partition of unity [3, Proposition 2.10]\n",
    "nx = 200\n",
    "x = np.linspace(-d-2*(d_t-1), d+2*(d_t-1), nx)\n",
    "s = np.zeros(nx)\n",
    "for k in range(sf_t.l1, sf_t.l2 + 1):\n",
    "    s += sf_t(x + k)\n",
    "plt.plot(x, s)\n",
    "plt.show()\n",
    "# assert np.isclose(s[nx//2], 1.)"
   ]
  },
  {
   "cell_type": "code",
   "execution_count": null,
   "id": "d2f8c640",
   "metadata": {},
   "outputs": [],
   "source": [
    "# refinement coefficients (see [3, Table 2.6-2.7])\n",
    "a = sf_t.refinement_coeffs()\n",
    "\n",
    "# verification of [3, Proposition 2.7]\n",
    "sum_a = a.sum()\n",
    "print(\"refinement coefficients =\", a)\n",
    "print(\"sum =\", sum_a)\n",
    "assert np.isclose(sum_a, 2.)"
   ]
  },
  {
   "cell_type": "code",
   "execution_count": null,
   "id": "b0bc5a66",
   "metadata": {},
   "outputs": [],
   "source": [
    "# verification of biorthogonality\n",
    "res = []\n",
    "for k in range(sf.l1-sf_t.l2+1, sf.l2-sf_t.l1):\n",
    "    res.append(quad(lambda x: sf(x)*sf_t(x-k), sf.l1, sf.l2)[0])\n",
    "res = np.array(res)\n",
    "print(\"biorthogonality:\")\n",
    "print(res)\n",
    "\n",
    "exact = np.zeros_like(res)\n",
    "exact[res.size//2] = 1.\n",
    "print(\"expected values:\")\n",
    "print(exact)\n",
    "# assert np.allclose(res, exact, atol=1e-3)"
   ]
  },
  {
   "cell_type": "code",
   "execution_count": null,
   "id": "9028d746",
   "metadata": {},
   "outputs": [],
   "source": [
    "# entries of Gramian matrix\n",
    "g = sf_t.gramian()\n",
    "\n",
    "# approximate L2-norm from Gramian matrix\n",
    "l2_norm_g = np.sqrt(g[d+2*d_t-3])\n",
    "print(\"L2 norm from gramian =\", l2_norm_g)\n",
    "print(\"L2 norm from quadrature =\", l2_norm)\n",
    "# assert np.isclose(l2_norm_g, l2_norm)"
   ]
  },
  {
   "cell_type": "code",
   "execution_count": null,
   "id": "ab82f0c8",
   "metadata": {},
   "outputs": [],
   "source": [
    "# validation of Gramian matrix for d = 2, d_t = 2\n",
    "# reference value from [1, Beispiel 4.25]\n",
    "g_test = DualScalingFunction(2, 2).gramian()\n",
    "g_ref = np.array([1/288, 1/8, -67/96, 77/36, -67/96, 1/8, 1/288])\n",
    "assert np.allclose(g_test, g_ref)"
   ]
  },
  {
   "cell_type": "markdown",
   "id": "dfc7bc40",
   "metadata": {},
   "source": [
    "# Mother Wavelet"
   ]
  },
  {
   "cell_type": "code",
   "execution_count": null,
   "id": "470f2d55",
   "metadata": {},
   "outputs": [],
   "source": [
    "# initialization\n",
    "mw = MotherWavelet(d, d_t)\n",
    "# visualization\n",
    "mw.plot()"
   ]
  },
  {
   "cell_type": "code",
   "execution_count": null,
   "id": "10f6cc14",
   "metadata": {},
   "outputs": [],
   "source": [
    "# approximate L1-norm from numerical quadrature\n",
    "l1_norm = quad(mw, mw.l1, mw.l2)[0]\n",
    "print(\"L1 norm =\", l1_norm)\n",
    "assert np.isclose(l1_norm, 0.)\n",
    "\n",
    "# approximate L2-norm from numerical quadrature\n",
    "l2_norm = np.sqrt(quad(lambda x: mw(x)**2, mw.l1, mw.l2)[0])\n",
    "print(\"L2 norm =\", l2_norm)"
   ]
  },
  {
   "cell_type": "code",
   "execution_count": null,
   "id": "9306de5d",
   "metadata": {
    "scrolled": true
   },
   "outputs": [],
   "source": [
    "# normalization by L2-norm (see [3, Figure 5.5-5.11])\n",
    "mw.plot(scale=1./l2_norm)"
   ]
  },
  {
   "cell_type": "code",
   "execution_count": null,
   "id": "2fa757ae",
   "metadata": {},
   "outputs": [],
   "source": [
    "# visualization of derivative\n",
    "mw.plot(nu=1)\n",
    "\n",
    "# approximate H1-norm from numerical quadrature\n",
    "mw_deriv = mw.derivative()\n",
    "h1_norm = np.sqrt(quad(lambda x: mw_deriv(x)**2, mw.l1, mw.l2)[0] + l2_norm**2)\n",
    "print(\"H1 norm =\", h1_norm)"
   ]
  },
  {
   "cell_type": "code",
   "execution_count": null,
   "id": "664480ed",
   "metadata": {},
   "outputs": [],
   "source": [
    "# entries of Gramian matrix\n",
    "g = mw.gramian()\n",
    "\n",
    "# approximate L2-norm from Gramian matrix\n",
    "l2_norm_g = np.sqrt(g[d+d_t-2])\n",
    "print(\"L2 norm from gramian =\", l2_norm_g)\n",
    "print(\"L2 norm from quadrature =\", l2_norm)\n",
    "assert np.isclose(l2_norm_g, l2_norm)"
   ]
  },
  {
   "cell_type": "code",
   "execution_count": null,
   "id": "f7ab1766",
   "metadata": {},
   "outputs": [],
   "source": [
    "# entries of stiffness matrix\n",
    "h = mw.inner_product(nu=1)\n",
    "\n",
    "# approximate H1-norm from Gramian and stiffness matrix\n",
    "h1_norm_h = np.sqrt(h[d+d_t-2] + g[d+d_t-2])\n",
    "print(\"H1 norm from inner product =\", h1_norm_h)\n",
    "print(\"H1 norm from quadrature =\", h1_norm)\n",
    "assert np.isclose(h1_norm_h, h1_norm)"
   ]
  },
  {
   "attachments": {},
   "cell_type": "markdown",
   "id": "a112817f",
   "metadata": {},
   "source": [
    "# References\n",
    "[1] Primbs, Miriam. 2006. “Stabile biortogonale Spline-Waveletbasen auf dem Intervall.”\n",
    "\n",
    "[2] Primbs, Miriam. 2008. “On the Computation of Gramian Matrices for Refinable Bases on the Interval.” International Journal of Wavelets, Multiresolution and Information Processing 06 (03): 459–79. https://doi.org/10.1142/S0219691308002422.\n",
    "\n",
    "[3] Urban, Karsten. 2009. Wavelet Methods for Elliptic Partial Differential Equations. Numerical Mathematics and Scientific Computation. Oxford ; New York: Oxford University Press."
   ]
  }
 ],
 "metadata": {
  "kernelspec": {
   "display_name": "Python (firedrake)",
   "language": "python",
   "name": "firedrake"
  },
  "language_info": {
   "codemirror_mode": {
    "name": "ipython",
    "version": 3
   },
   "file_extension": ".py",
   "mimetype": "text/x-python",
   "name": "python",
   "nbconvert_exporter": "python",
   "pygments_lexer": "ipython3",
   "version": "3.8.10"
  }
 },
 "nbformat": 4,
 "nbformat_minor": 5
}
